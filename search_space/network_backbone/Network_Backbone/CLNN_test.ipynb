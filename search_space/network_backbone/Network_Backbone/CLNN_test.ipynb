{
 "cells": [
  {
   "cell_type": "code",
   "execution_count": 1,
   "metadata": {},
   "outputs": [
    {
     "name": "stderr",
     "output_type": "stream",
     "text": [
      "<jemalloc>: MADV_DONTNEED does not work (memset will be used instead)\n",
      "<jemalloc>: (This is the expected behaviour if you are running under QEMU)\n"
     ]
    }
   ],
   "source": [
    "# todo\n",
    "# 1. pick for store model\n",
    "# 2. print > log file\n",
    "\n",
    "import os\n",
    "import tempfile as tmp\n",
    "import warnings\n",
    "\n",
    "import sklearn.model_selection\n",
    "\n",
    "# os.environ user environment variable\n",
    "os.environ['JOBLIB_TEMP_FOLDER'] = tmp.gettempdir() # directory\n",
    "os.environ['OMP_NUM_THREADS'] = '1' \n",
    "os.environ['OPENBLAS_NUM_THREADS'] = '1'\n",
    "os.environ['MKL_NUM_THREADS'] = '1'\n",
    "\n",
    "warnings.simplefilter(action='ignore', category=UserWarning)\n",
    "warnings.simplefilter(action='ignore', category=FutureWarning)\n",
    "\n",
    "from autoPyTorch.api.tabular_classification import TabularClassificationTask"
   ]
  },
  {
   "cell_type": "code",
   "execution_count": 2,
   "metadata": {},
   "outputs": [],
   "source": [
    "# import pandas as pd\n",
    "\n",
    "# X = pd.read_csv('Datasets/CICDDoS2019/feature.csv')\n",
    "# y = pd.read_csv('Datasets/CICDDoS2019/label.csv')\n",
    "\n",
    "# X_train, X_test, y_train, y_test = sklearn.model_selection.train_test_split(\n",
    "#     X,\n",
    "#     y,\n",
    "#     random_state=1,\n",
    "# )\n",
    "\n",
    "import sklearn.datasets\n",
    "\n",
    "X, y = sklearn.datasets.fetch_openml(data_id=40981, return_X_y=True, as_frame=True)\n",
    "X_train, X_test, y_train, y_test = sklearn.model_selection.train_test_split(\n",
    "    X,\n",
    "    y,\n",
    "    random_state=1,\n",
    ")"
   ]
  },
  {
   "cell_type": "code",
   "execution_count": 3,
   "metadata": {},
   "outputs": [],
   "source": [
    "from autoPyTorch.datasets.resampling_strategy import CrossValTypes, HoldoutValTypes\n",
    "\n",
    "api = TabularClassificationTask(\n",
    "    temporary_directory='./Test_Results/CLNNBackbone_3600/autoPyTorch_example_tmp',\n",
    "    output_directory='./Test_Results/CLNNBackbone_3600/autoPyTorch_example_out',\n",
    "    include_components = {'imputer': 'None', 'network_backbone': ['CLNNBackbone'],\n",
    "                          'network_init': [\"KaimingInit\", \"NoInit\", \"XavierInit\"]},\n",
    "    ensemble_size = 0, # ensembling disable\n",
    "    resampling_strategy=HoldoutValTypes.holdout_validation,\n",
    "    resampling_strategy_args={'val_share': 0.2}\n",
    ")"
   ]
  },
  {
   "cell_type": "code",
   "execution_count": 4,
   "metadata": {},
   "outputs": [
    {
     "name": "stdout",
     "output_type": "stream",
     "text": [
      "[WARNING] [2023-04-01 21:13:24,743:Client-AutoPyTorch:f8d85c5b-d08e-11ed-803f-0242ac110002:1] Time limit for a single run is higher than total time limit. Capping the limit for a single run to the total time given to SMAC (3596.000000)\n"
     ]
    },
    {
     "name": "stderr",
     "output_type": "stream",
     "text": [
      "[W NNPACK.cpp:51] Could not initialize NNPACK! Reason: Unsupported hardware.\n",
      "[W NNPACK.cpp:51] Could not initialize NNPACK! Reason: Unsupported hardware.\n",
      "[W NNPACK.cpp:51] Could not initialize NNPACK! Reason: Unsupported hardware.\n",
      "[W NNPACK.cpp:51] Could not initialize NNPACK! Reason: Unsupported hardware.\n",
      "[W NNPACK.cpp:51] Could not initialize NNPACK! Reason: Unsupported hardware.\n",
      "[W NNPACK.cpp:51] Could not initialize NNPACK! Reason: Unsupported hardware.\n",
      "[W NNPACK.cpp:51] Could not initialize NNPACK! Reason: Unsupported hardware.\n"
     ]
    },
    {
     "name": "stdout",
     "output_type": "stream",
     "text": [
      "[WARNING] [2023-04-01 22:13:42,764:Client-autoPyTorch.automl_common.common.utils.backend] Directory ./Test_Results/CLNNBackbone_3600/autoPyTorch_example_tmp/.autoPyTorch/ensembles does not exist\n",
      "[ERROR] [2023-04-01 22:13:42,767:Client-AutoPyTorch:f8d85c5b-d08e-11ed-803f-0242ac110002:1] No valid ensemble was created. Please check the logfile for errors. Default to the best individual estimator:[(1, 3, 5.555555555555555)]\n",
      "NoneType: None\n"
     ]
    },
    {
     "data": {
      "text/plain": [
       "<autoPyTorch.api.tabular_classification.TabularClassificationTask at 0x40fbac7220>"
      ]
     },
     "execution_count": 4,
     "metadata": {},
     "output_type": "execute_result"
    }
   ],
   "source": [
    "import numpy as np\n",
    "\n",
    "api.search(\n",
    "    X_train=X_train,\n",
    "    y_train=y_train,\n",
    "    X_test=X_test.copy(),\n",
    "    y_test=y_test.copy(),\n",
    "    optimize_metric='accuracy',\n",
    "#     memory_limit=1000000,\n",
    "    total_walltime_limit=3600,\n",
    "    func_eval_time_limit_secs=3600,\n",
    "    enable_traditional_pipeline=False,\n",
    ")"
   ]
  },
  {
   "cell_type": "code",
   "execution_count": 5,
   "metadata": {},
   "outputs": [
    {
     "name": "stdout",
     "output_type": "stream",
     "text": [
      "{'accuracy': 0.7630057803468208}\n",
      "autoPyTorch results:\n",
      "\tDataset name: f8d85c5b-d08e-11ed-803f-0242ac110002\n",
      "\tOptimisation Metric: accuracy\n",
      "\tBest validation score: 0.7980769230769231\n",
      "\tNumber of target algorithm runs: 7\n",
      "\tNumber of successful target algorithm runs: 6\n",
      "\tNumber of crashed target algorithm runs: 0\n",
      "\tNumber of target algorithms that exceeded the time limit: 1\n",
      "\tNumber of target algorithms that exceeded the memory limit: 0\n",
      "\n",
      "|    | Preprocessing                                                                                  | Estimator                                                  |   Weight |\n",
      "|---:|:-----------------------------------------------------------------------------------------------|:-----------------------------------------------------------|---------:|\n",
      "|  0 | SimpleImputer,Variance Threshold,NoCoalescer,OneHotEncoder,MinMaxScaler,NoFeaturePreprocessing | no embedding,CLNNBackbone,FullyConnectedHead,nn.Sequential |        1 |\n"
     ]
    }
   ],
   "source": [
    "y_pred = api.predict(X_test)\n",
    "score = api.score(y_pred, y_test)\n",
    "print(score)\n",
    "\n",
    "# Print statistics from search\n",
    "print(api.sprint_statistics())\n",
    "print(api.show_models())"
   ]
  },
  {
   "cell_type": "code",
   "execution_count": null,
   "metadata": {},
   "outputs": [],
   "source": []
  },
  {
   "cell_type": "code",
   "execution_count": null,
   "metadata": {},
   "outputs": [],
   "source": []
  },
  {
   "cell_type": "code",
   "execution_count": null,
   "metadata": {},
   "outputs": [],
   "source": [
    "api.refit(\n",
    "    X_train=X_train,\n",
    "    y_train=y_train,\n",
    "    X_test=X_test,\n",
    "    y_test=y_test,\n",
    "    memory_limit=1000000,\n",
    "    total_walltime_limit=600,\n",
    "    run_time_limit_secs=300,\n",
    "    # you can change the resampling strategy to\n",
    "    # for example, CrossValTypes.k_fold_cross_validation\n",
    "    # to fit k fold models and have a voting classifier\n",
    "    # resampling_strategy=CrossValTypes.k_fold_cross_validation\n",
    ")"
   ]
  },
  {
   "cell_type": "code",
   "execution_count": null,
   "metadata": {},
   "outputs": [],
   "source": [
    "y_pred = api.predict(X_test)\n",
    "score = api.score(y_pred, y_test)\n",
    "print(score)\n",
    "\n",
    "# Print the final ensemble built by AutoPyTorch\n",
    "print(api.show_models())"
   ]
  }
 ],
 "metadata": {
  "kernelspec": {
   "display_name": "Python 3 (ipykernel)",
   "language": "python",
   "name": "python3"
  },
  "language_info": {
   "codemirror_mode": {
    "name": "ipython",
    "version": 3
   },
   "file_extension": ".py",
   "mimetype": "text/x-python",
   "name": "python",
   "nbconvert_exporter": "python",
   "pygments_lexer": "ipython3",
   "version": "3.8.10"
  }
 },
 "nbformat": 4,
 "nbformat_minor": 2
}
